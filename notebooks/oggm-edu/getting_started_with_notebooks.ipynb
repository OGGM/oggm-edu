{
 "cells": [
  {
   "cell_type": "markdown",
   "metadata": {},
   "source": [
    "# Getting started with the Jupyter Notebook"
   ]
  },
  {
   "cell_type": "markdown",
   "metadata": {},
   "source": [
    "Welcome to this introduction to [Jupyter Notebook](https://jupyter.org/)! Notebooks are interactive documents that originated from the python programming language, but has since been extended to other languages (it was previously called \"ipython notebook\", you will find it often with this name in forums or websites). The advantage of Jupyter notebooks is that they can include explanatory text, code, and plots in the same document. \n",
    "\n",
    "This makes it an ideal playground for explaining and learning new things without having to jump between several documents. Additionally, you can test everything interactively!\n",
    "\n",
    "In this tutorial we will use Python for the example code, but don't worry, we do it all in a very simple way."
   ]
  },
  {
   "cell_type": "markdown",
   "metadata": {},
   "source": [
    "## First steps"
   ]
  },
  {
   "cell_type": "markdown",
   "metadata": {},
   "source": [
    "At first sight the notebook looks like a text editor. Below the toolbar you can see a **cell**. The default purpose of a cell is to write code:"
   ]
  },
  {
   "cell_type": "code",
   "execution_count": null,
   "metadata": {},
   "outputs": [],
   "source": [
    "# Click on this cell, so that its frame gets green\n",
    "m = 'Hello'\n",
    "print(m)"
   ]
  },
  {
   "cell_type": "markdown",
   "metadata": {},
   "source": [
    "You can write one or more lines of code in a cell. You can **run** this code by clicking on the \"Run\" button from the toolbar when the cell's frame is green or blue. Try it now! \n",
    "\n",
    "However it is much faster to use the keybord shortcut: `[Shift+Enter]`. Once you have executed a cell, the next cell is selected. You can **insert** cells with the \"Insert\" menu. Again, it is much faster to learn the keybord shortcut for this: `[Ctrl+m]` or `[ESC]` to enter in command mode (blue frame) then press `[a]` for \"above\" or `[b]` for \"below.\n",
    "\n",
    "Create a few empty cells above and below the current one and try to create some variables.  Instead of clicking on a cell to enter in edit mode press `[Enter]`.\n",
    "\n",
    "You can **delete** a cell by clicking \"Delete\" in the \"Edit\" menu, or you can use the shortcut: `[Ctrl+m]` to enter in command mode then press `[d]` two times!"
   ]
  },
  {
   "cell_type": "markdown",
   "metadata": {},
   "source": [
    "## More cell editing"
   ]
  },
  {
   "cell_type": "markdown",
   "metadata": {},
   "source": [
    "When you have a look into the \"Edit\" menu, you will see that there are more possibilities to edit cells, like:\n",
    "- **copy** / **cut** and **paste**\n",
    "- **splitting** and **merging** cells \n",
    "\n",
    "and more."
   ]
  },
  {
   "cell_type": "code",
   "execution_count": null,
   "metadata": {},
   "outputs": [],
   "source": [
    "a = 'This cell needs to be splitted.'\n",
    "\n",
    "b = 'Put the cursor in the row between the variables a and b, then choose [split cell] in the \"Edit\" menu!'"
   ]
  },
  {
   "cell_type": "markdown",
   "metadata": {},
   "source": [
    "A more helpful command is \"Undo delete cell', which is sometimes needed when the key `[d]` was pressed too fast. "
   ]
  },
  {
   "cell_type": "markdown",
   "metadata": {},
   "source": [
    "## Writing and executing code"
   ]
  },
  {
   "cell_type": "markdown",
   "metadata": {},
   "source": [
    "The variables created in one cell can be used (or overwritten) in subsequent cells:"
   ]
  },
  {
   "cell_type": "code",
   "execution_count": null,
   "metadata": {},
   "outputs": [],
   "source": [
    "s = 'Hello'\n",
    "print(s)"
   ]
  },
  {
   "cell_type": "code",
   "execution_count": null,
   "metadata": {},
   "outputs": [],
   "source": [
    "s = s + ' Python!'\n",
    "# Lines which start with # are not executed. These are for comments.\n",
    "s"
   ]
  },
  {
   "cell_type": "markdown",
   "metadata": {},
   "source": [
    "Note that I ommited the `print` commmand above (this is OK if you want to print something at the end of the cell only)."
   ]
  },
  {
   "cell_type": "markdown",
   "metadata": {},
   "source": [
    "In jupyter notebooks, ipython's **autocompletion** is supported. This is very useful when writing code. Variable names, functions and methods can be completed by pressing `[TAB]`."
   ]
  },
  {
   "cell_type": "code",
   "execution_count": null,
   "metadata": {},
   "outputs": [],
   "source": [
    "# Let's define a random sentence as string.\n",
    "sentence = 'How Are You?'"
   ]
  },
  {
   "cell_type": "code",
   "execution_count": null,
   "metadata": {},
   "outputs": [],
   "source": [
    "# Now try autocompletion! Put the cursor behind the 'se' in the next row and press [TAB].\n",
    "se"
   ]
  },
  {
   "cell_type": "code",
   "execution_count": null,
   "metadata": {},
   "outputs": [],
   "source": [
    "# Call methods of the string by typing \"sentence.\" and pressing [TAB].\n",
    "sentence."
   ]
  },
  {
   "cell_type": "code",
   "execution_count": null,
   "metadata": {},
   "outputs": [],
   "source": [
    "# Choose for example the method lower() and see what happens when you execute the cell!\n",
    "sentence.lower()"
   ]
  },
  {
   "cell_type": "markdown",
   "metadata": {},
   "source": [
    "An advantage of jupyter-notebook is that every cell can be executed separately. That provides an easy way to execute code slowly one part of the code after another. It is important to notice that the order in which you execute the cells is the order how jupyter-notebook calculates and saves variables, not the general order of the cells. That means it makes a difference, whether you execute the cells top down one after another, or whether you mix them (cell 1, then cell 5, then cell 2 etc.)."
   ]
  },
  {
   "cell_type": "markdown",
   "metadata": {},
   "source": [
    "The numbers on the left of the cell show you your order of execution. When a calculation is running longer, you will see an asterisk in the place of the number. That leads us to the next topic:"
   ]
  },
  {
   "cell_type": "markdown",
   "metadata": {},
   "source": [
    "## Restart or interrupt the kernel"
   ]
  },
  {
   "cell_type": "markdown",
   "metadata": {},
   "source": [
    "Sometimes calculations last too long and you want to **interrupt** them. You can do this by clicking the \"Stop button\" in the toolbar.  You find more options to deal with the \"Kernel\" in the menu bar, like **restarting** the kernel and **clearing** all the output. "
   ]
  },
  {
   "cell_type": "markdown",
   "metadata": {},
   "source": [
    "## Implementing plots with matplotlib"
   ]
  },
  {
   "cell_type": "markdown",
   "metadata": {},
   "source": [
    "As I told you in the beginning: you can implement plots in jupyter-notebook. The most widely used plotting tool for Python is [Matplotlib](http://matplotlib.org/). Its syntax is directly inspired from Matlab."
   ]
  },
  {
   "cell_type": "code",
   "execution_count": null,
   "metadata": {},
   "outputs": [],
   "source": [
    "# First we need the next line to tell the notebook: display plots in the notebook.\n",
    "%matplotlib inline\n",
    "\n",
    "# Now, we import matplotlib:\n",
    "import matplotlib.pyplot as plt\n",
    "\n",
    "# We import also the package called numpy (that helps us playing with numbers).\n",
    "import numpy as np"
   ]
  },
  {
   "cell_type": "code",
   "execution_count": null,
   "metadata": {},
   "outputs": [],
   "source": [
    "# Let's plot something nice:\n",
    "\n",
    "# Define a range.\n",
    "x = np.arange(-1, 1.1, 0.1)\n",
    "# Plot it.\n",
    "plt.plot(x, np.sqrt(1-x**2))\n",
    "plt.title('My first plot in jupyter-notebook');"
   ]
  },
  {
   "cell_type": "markdown",
   "metadata": {},
   "source": [
    "Toggle the output by doubleclicking on the left of the plot, where an active rectangle appears!"
   ]
  },
  {
   "cell_type": "markdown",
   "metadata": {},
   "source": [
    "## Formatting your notebook with text, titles and formulas"
   ]
  },
  {
   "cell_type": "markdown",
   "metadata": {},
   "source": [
    "The default role of a cell is to run code, but you can tell the notebook to format a cell as \"text\" by clicking in the menu bar on \"Cell\", choose \"Cell Type\" $\\rightarrow$ \"Markdown\". The current cell will now be transformed to a normal text.\n",
    "Again, there is a shortcut for this: press `[Ctrl+m]` to enter in command mode and then `[m]`.\n",
    "\n",
    "To enter an already existing markdown cell like this one: doubleclick it. Try it now!\n",
    "\n",
    "### A text cell can also have a title if you add one or more # at the beginning of the row\n",
    "\n",
    "A text cell can be formatted using the [Markdown](https://en.wikipedia.org/wiki/Markdown) format, e.g. it is possible to write lists:\n",
    "- item 1\n",
    "- item 2\n",
    "\n",
    "or formulas by using Latex notation:\n",
    "\n",
    "$$ E = m c^2$$\n",
    "\n",
    "You can also write text in **bold** or *cursive*."
   ]
  },
  {
   "cell_type": "markdown",
   "metadata": {},
   "source": [
    "## Download the notebook"
   ]
  },
  {
   "cell_type": "markdown",
   "metadata": {},
   "source": [
    "Jupyter-notebook offers us the option to download the notebook with different document types:\n",
    "\n",
    "- Notebook (*.pynb)\n",
    "- Python (*.py)\n",
    "- HTML (*.html)\n",
    "- Latex (*.tex)\n",
    "- ...\n",
    "\n",
    "Therefore have a look in the \"File\" menu and choose \"Download as\"."
   ]
  },
  {
   "cell_type": "markdown",
   "metadata": {},
   "source": [
    "These were the most important features of jupyter-notebook. In the notebook's menu bar the tab \"Help\" provides a short \"User Interface Tour\" and a list with \"Keyboard Shortcuts\". Furthermore, there are tutorials [on the web](https://jupyter.org/try) or the [documentation](https://jupyter-notebook.readthedocs.io/en/stable/notebook.html) if you have more questions. But with the already learned commands you are well prepared for the oggm-edu experiments!"
   ]
  },
  {
   "cell_type": "markdown",
   "metadata": {},
   "source": [
    "[Back to the OGGM-Edu table of contents](welcome.ipynb)"
   ]
  }
 ],
 "metadata": {
  "hide_input": false,
  "kernelspec": {
   "display_name": "Python 3",
   "language": "python",
   "name": "python3"
  },
  "language_info": {
   "codemirror_mode": {
    "name": "ipython",
    "version": 3
   },
   "file_extension": ".py",
   "mimetype": "text/x-python",
   "name": "python",
   "nbconvert_exporter": "python",
   "pygments_lexer": "ipython3",
   "version": "3.6.6"
  },
  "toc": {
   "base_numbering": 1,
   "nav_menu": {},
   "number_sections": false,
   "sideBar": true,
   "skip_h1_title": true,
   "title_cell": "Table of Contents",
   "title_sidebar": "Contents",
   "toc_cell": false,
   "toc_position": {},
   "toc_section_display": true,
   "toc_window_display": false
  }
 },
 "nbformat": 4,
 "nbformat_minor": 1
}
