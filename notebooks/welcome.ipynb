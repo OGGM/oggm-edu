{
 "cells": [
  {
   "cell_type": "markdown",
   "metadata": {},
   "source": [
    "# Welcome to OGGM Edu!"
   ]
  },
  {
   "cell_type": "markdown",
   "metadata": {},
   "source": [
    "Visit:\n",
    "- [oggm-tuto](./oggm-tuto/welcome.ipynb) for tutorials about how to use the OGGM model\n",
    "- [oggm-edu](./oggm-edu/welcome.ipynb) for educational notebooks about glaciers"
   ]
  },
  {
   "cell_type": "markdown",
   "metadata": {},
   "source": [
    "If you are new to jupyter notebooks or jupyterlab (i.e.: this website ;-), we recommend to have a look at our [introduction to jupyter notebooks](./oggm-edu/getting_started_with_notebooks.ipynb) first!"
   ]
  }
 ],
 "metadata": {
  "kernelspec": {
   "display_name": "Python 3",
   "language": "python",
   "name": "python3"
  },
  "language_info": {
   "codemirror_mode": {
    "name": "ipython",
    "version": 3
   },
   "file_extension": ".py",
   "mimetype": "text/x-python",
   "name": "python",
   "nbconvert_exporter": "python",
   "pygments_lexer": "ipython3",
   "version": "3.5.2"
  }
 },
 "nbformat": 4,
 "nbformat_minor": 2
}
